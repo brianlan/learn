{
 "cells": [
  {
   "cell_type": "code",
   "execution_count": 10,
   "id": "second-violation",
   "metadata": {},
   "outputs": [],
   "source": [
    "import math\n",
    "\n",
    "import numpy as np\n",
    "from tqdm import tqdm"
   ]
  },
  {
   "cell_type": "code",
   "execution_count": 20,
   "id": "experienced-employee",
   "metadata": {},
   "outputs": [
    {
     "name": "stderr",
     "output_type": "stream",
     "text": [
      "100%|██████████| 100000/100000 [00:00<00:00, 209730.72it/s]"
     ]
    },
    {
     "name": "stdout",
     "output_type": "stream",
     "text": [
      "as sz goes to infinity, the prob should be 1/e = 0.367879\n",
      "prob: 0.368070\n"
     ]
    },
    {
     "name": "stderr",
     "output_type": "stream",
     "text": [
      "\n"
     ]
    }
   ],
   "source": [
    "sz = 100\n",
    "n = 100000\n",
    "deranged = 0\n",
    "for _ in tqdm(range(n)):\n",
    "    if (np.arange(sz) == np.random.permutation(sz)).sum() == 0:\n",
    "        deranged += 1\n",
    "print(f\"as sz goes to infinity, the prob should be 1/e = {1 / math.e:.6f}\")\n",
    "# print(f\"observed: {deranged} deranged\")\n",
    "print(f\"prob: {deranged / n:.6f}\")"
   ]
  },
  {
   "cell_type": "code",
   "execution_count": null,
   "id": "important-conducting",
   "metadata": {},
   "outputs": [],
   "source": []
  }
 ],
 "metadata": {
  "kernelspec": {
   "display_name": "Python 3",
   "language": "python",
   "name": "python3"
  },
  "language_info": {
   "codemirror_mode": {
    "name": "ipython",
    "version": 3
   },
   "file_extension": ".py",
   "mimetype": "text/x-python",
   "name": "python",
   "nbconvert_exporter": "python",
   "pygments_lexer": "ipython3",
   "version": "3.9.1rc1"
  }
 },
 "nbformat": 4,
 "nbformat_minor": 5
}
