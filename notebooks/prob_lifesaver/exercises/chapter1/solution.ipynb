{
 "cells": [
  {
   "cell_type": "code",
   "execution_count": 49,
   "id": "electoral-waterproof",
   "metadata": {},
   "outputs": [],
   "source": [
    "from math import comb as C\n",
    "import matplotlib.pyplot as plt\n",
    "import numpy as np\n",
    "from scipy.stats import mode\n",
    "from tqdm import tqdm\n",
    "from loguru import logger"
   ]
  },
  {
   "cell_type": "markdown",
   "id": "dynamic-smoke",
   "metadata": {},
   "source": [
    "## 习题1.5.1\n",
    "\n",
    "假设每个人都等可能地出生在一年中的任何一个月里. 如果两个人的出生月份是相互独立的, 那么他们出生在同一个月的概率是多少?\n",
    "\n",
    "他们的出生月份最多相差一个月的概率是多少?\n",
    "\n",
    "对于任意的$k\\in\\{0,1,2,...,12\\}$,求他们的出生月份最多相差k个月的概率. 你对两个人的出生月份最多相差一个月的可能性感到惊讶吗?"
   ]
  },
  {
   "cell_type": "markdown",
   "id": "internal-lexington",
   "metadata": {},
   "source": [
    "##### Answer"
   ]
  },
  {
   "cell_type": "code",
   "execution_count": 11,
   "id": "living-compact",
   "metadata": {},
   "outputs": [
    {
     "name": "stdout",
     "output_type": "stream",
     "text": [
      "numerator=12, denominator=144, ans=0.083\n"
     ]
    }
   ],
   "source": [
    "# 第一问\n",
    "numerator = C(12, 1) * 1\n",
    "denominator = C(12, 1) * C(12, 1)\n",
    "ans = numerator / denominator\n",
    "print(f\"{numerator=}, {denominator=}, {ans=:.3f}\")"
   ]
  },
  {
   "cell_type": "code",
   "execution_count": 12,
   "id": "usual-forwarding",
   "metadata": {},
   "outputs": [
    {
     "name": "stdout",
     "output_type": "stream",
     "text": [
      "numerator=36, denominator=144, ans=0.250\n"
     ]
    }
   ],
   "source": [
    "# 第二问\n",
    "numerator = C(12, 1) * C(3, 1)\n",
    "denominator = C(12, 1) * C(12, 1)\n",
    "ans = numerator / denominator\n",
    "print(f\"{numerator=}, {denominator=}, {ans=:.3f}\")"
   ]
  },
  {
   "cell_type": "code",
   "execution_count": 19,
   "id": "straight-chrome",
   "metadata": {},
   "outputs": [
    {
     "name": "stdout",
     "output_type": "stream",
     "text": [
      "k=0, prob(k)=0.08333\n",
      "k=1, prob(k)=0.25000\n",
      "k=2, prob(k)=0.41667\n",
      "k=3, prob(k)=0.58333\n",
      "k=4, prob(k)=0.75000\n",
      "k=5, prob(k)=0.91667\n",
      "k=6, prob(k)=1.00000\n",
      "k=7, prob(k)=1.00000\n",
      "k=8, prob(k)=1.00000\n",
      "k=9, prob(k)=1.00000\n",
      "k=10, prob(k)=1.00000\n",
      "k=11, prob(k)=1.00000\n",
      "k=12, prob(k)=1.00000\n"
     ]
    }
   ],
   "source": [
    "# 第三问\n",
    "def prob(k=0):\n",
    "    numerator = C(12, 1) * min(C(2 * k + 1, 1), C(12, 1))\n",
    "    denominator = C(12, 1) * C(12, 1)\n",
    "    return numerator / denominator\n",
    "\n",
    "for k in range(13):\n",
    "    print(f\"{k=}, {prob(k)=:.5f}\")"
   ]
  },
  {
   "cell_type": "markdown",
   "id": "valid-pressure",
   "metadata": {},
   "source": [
    "##### random sample to validate the answer"
   ]
  },
  {
   "cell_type": "code",
   "execution_count": 21,
   "id": "fixed-queen",
   "metadata": {},
   "outputs": [
    {
     "name": "stdout",
     "output_type": "stream",
     "text": [
      "0.083718\n",
      "k=0, prob=0.08372\n",
      "k=1, prob=0.25040\n",
      "k=2, prob=0.41681\n",
      "k=3, prob=0.58362\n",
      "k=4, prob=0.75005\n",
      "k=5, prob=0.91693\n",
      "k=6, prob=1.00000\n",
      "k=7, prob=1.00000\n",
      "k=8, prob=1.00000\n",
      "k=9, prob=1.00000\n",
      "k=10, prob=1.00000\n",
      "k=11, prob=1.00000\n",
      "k=12, prob=1.00000\n"
     ]
    }
   ],
   "source": [
    "num_trials = 1000000\n",
    "success = 0\n",
    "a = np.random.randint(12, size=num_trials)\n",
    "b = np.random.randint(12, size=num_trials)\n",
    "abs_diff = np.abs(a - b)\n",
    "\n",
    "# k == 0\n",
    "print((abs_diff == 0).sum() / num_trials)\n",
    "\n",
    "for k in range(13):\n",
    "    print(f\"{k=}, prob={(np.minimum(abs_diff, 12 - abs_diff) <= k).sum() / num_trials:.5f}\")"
   ]
  },
  {
   "cell_type": "markdown",
   "id": "everyday-farmer",
   "metadata": {},
   "source": [
    "###### explanation"
   ]
  },
  {
   "cell_type": "markdown",
   "id": "dietary-sound",
   "metadata": {},
   "source": [
    "| A   | B | abs_diff | min(abs_diff, 12 - abs_diff) |\n",
    "| --- | --- | --- | --- |\n",
    "|1| 1| 0 |0|\n",
    "|1| 2| 1 |1|\n",
    "|1| 3| 2 |2|\n",
    "|1| 4| 3 |3|\n",
    "|1| 5| 4 |4|\n",
    "|1| 6| 5 |5|\n",
    "|1| 7| 6 |6|\n",
    "|1| 8| 7 |5|\n",
    "|1| 9| 8 |4|\n",
    "|1|10| 9 |3|\n",
    "|1|11| 10 |2|\n",
    "|1|12| 11 |1|"
   ]
  },
  {
   "cell_type": "markdown",
   "id": "flush-syndication",
   "metadata": {},
   "source": [
    "## 习题1.5.2\n",
    "\n",
    "保留生日问题中的条件不变, 并假设每次只有一个人进入房间. 首次与房间里其他人生 日相同的人最有可能第几个进入房间?"
   ]
  },
  {
   "cell_type": "markdown",
   "id": "august-marshall",
   "metadata": {},
   "source": [
    "##### Validation by Random Sampling"
   ]
  },
  {
   "cell_type": "code",
   "execution_count": 53,
   "id": "clinical-peace",
   "metadata": {},
   "outputs": [
    {
     "name": "stderr",
     "output_type": "stream",
     "text": [
      "100%|██████████| 1000000/1000000 [00:50<00:00, 19763.34it/s]\n"
     ]
    }
   ],
   "source": [
    "num_trials = 1000000\n",
    "history = []\n",
    "for _ in tqdm(range(num_trials)):\n",
    "    birthdays = np.random.randint(365, size=366)\n",
    "#     registry = 0\n",
    "    for i, d in enumerate(birthdays):\n",
    "        if d in birthdays[:i]:\n",
    "            history.append(i + 1)\n",
    "            break"
   ]
  },
  {
   "cell_type": "code",
   "execution_count": 56,
   "id": "sound-emerald",
   "metadata": {},
   "outputs": [
    {
     "name": "stdout",
     "output_type": "stream",
     "text": [
      "1000000\n",
      "ModeResult(mode=array([21]), count=array([32278]))\n"
     ]
    }
   ],
   "source": [
    "print(len(history))\n",
    "print(mode(history))"
   ]
  },
  {
   "cell_type": "code",
   "execution_count": 55,
   "id": "promotional-breast",
   "metadata": {},
   "outputs": [
    {
     "data": {
      "text/plain": [
       "(array([1.6551e+04, 2.4312e+04, 5.4629e+04, 4.6507e+04, 5.3537e+04,\n",
       "        8.9044e+04, 6.3220e+04, 6.4187e+04, 9.5955e+04, 6.0863e+04,\n",
       "        8.5586e+04, 5.2017e+04, 4.6794e+04, 6.1089e+04, 3.4444e+04,\n",
       "        2.9458e+04, 3.5903e+04, 1.8627e+04, 2.2018e+04, 1.1011e+04,\n",
       "        8.6390e+03, 9.4160e+03, 4.5310e+03, 3.3710e+03, 3.3640e+03,\n",
       "        1.4830e+03, 1.4770e+03, 6.2500e+02, 4.6200e+02, 4.2800e+02,\n",
       "        1.7100e+02, 1.0800e+02, 8.4000e+01, 3.6000e+01, 2.9000e+01,\n",
       "        9.0000e+00, 8.0000e+00, 3.0000e+00, 2.0000e+00, 2.0000e+00]),\n",
       " array([ 2.   ,  4.375,  6.75 ,  9.125, 11.5  , 13.875, 16.25 , 18.625,\n",
       "        21.   , 23.375, 25.75 , 28.125, 30.5  , 32.875, 35.25 , 37.625,\n",
       "        40.   , 42.375, 44.75 , 47.125, 49.5  , 51.875, 54.25 , 56.625,\n",
       "        59.   , 61.375, 63.75 , 66.125, 68.5  , 70.875, 73.25 , 75.625,\n",
       "        78.   , 80.375, 82.75 , 85.125, 87.5  , 89.875, 92.25 , 94.625,\n",
       "        97.   ]),\n",
       " <BarContainer object of 40 artists>)"
      ]
     },
     "execution_count": 55,
     "metadata": {},
     "output_type": "execute_result"
    },
    {
     "data": {
      "image/png": "[encoded data removed]",
      "text/plain": [
       "<Figure size 432x288 with 1 Axes>"
      ]
     },
     "metadata": {
      "needs_background": "light"
     },
     "output_type": "display_data"
    }
   ],
   "source": [
    "plt.hist(history, bins=40)"
   ]
  },
  {
   "cell_type": "code",
   "execution_count": null,
   "id": "centered-motor",
   "metadata": {},
   "outputs": [],
   "source": []
  }
 ],
 "metadata": {
  "kernelspec": {
   "display_name": "Python 3",
   "language": "python",
   "name": "python3"
  },
  "language_info": {
   "codemirror_mode": {
    "name": "ipython",
    "version": 3
   },
   "file_extension": ".py",
   "mimetype": "text/x-python",
   "name": "python",
   "nbconvert_exporter": "python",
   "pygments_lexer": "ipython3",
   "version": "3.9.1rc1"
  }
 },
 "nbformat": 4,
 "nbformat_minor": 5
}
