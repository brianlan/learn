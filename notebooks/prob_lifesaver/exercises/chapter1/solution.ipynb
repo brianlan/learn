{
 "cells": [
  {
   "cell_type": "code",
   "execution_count": 74,
   "id": "electoral-waterproof",
   "metadata": {},
   "outputs": [],
   "source": [
    "from math import factorial, comb as C\n",
    "import operator as op\n",
    "from functools import reduce\n",
    "import matplotlib.pyplot as plt\n",
    "import numpy as np\n",
    "from scipy.stats import mode\n",
    "from tqdm import tqdm\n",
    "from loguru import logger"
   ]
  },
  {
   "cell_type": "markdown",
   "id": "dynamic-smoke",
   "metadata": {},
   "source": [
    "## 习题1.5.1\n",
    "\n",
    "假设每个人都等可能地出生在一年中的任何一个月里. 如果两个人的出生月份是相互独立的, 那么他们出生在同一个月的概率是多少?\n",
    "\n",
    "他们的出生月份最多相差一个月的概率是多少?\n",
    "\n",
    "对于任意的$k\\in\\{0,1,2,...,12\\}$,求他们的出生月份最多相差k个月的概率. 你对两个人的出生月份最多相差一个月的可能性感到惊讶吗?"
   ]
  },
  {
   "cell_type": "markdown",
   "id": "internal-lexington",
   "metadata": {},
   "source": [
    "##### Answer"
   ]
  },
  {
   "cell_type": "code",
   "execution_count": 11,
   "id": "living-compact",
   "metadata": {},
   "outputs": [
    {
     "name": "stdout",
     "output_type": "stream",
     "text": [
      "numerator=12, denominator=144, ans=0.083\n"
     ]
    }
   ],
   "source": [
    "# 第一问\n",
    "numerator = C(12, 1) * 1\n",
    "denominator = C(12, 1) * C(12, 1)\n",
    "ans = numerator / denominator\n",
    "print(f\"{numerator=}, {denominator=}, {ans=:.3f}\")"
   ]
  },
  {
   "cell_type": "code",
   "execution_count": 12,
   "id": "usual-forwarding",
   "metadata": {},
   "outputs": [
    {
     "name": "stdout",
     "output_type": "stream",
     "text": [
      "numerator=36, denominator=144, ans=0.250\n"
     ]
    }
   ],
   "source": [
    "# 第二问\n",
    "numerator = C(12, 1) * C(3, 1)\n",
    "denominator = C(12, 1) * C(12, 1)\n",
    "ans = numerator / denominator\n",
    "print(f\"{numerator=}, {denominator=}, {ans=:.3f}\")"
   ]
  },
  {
   "cell_type": "code",
   "execution_count": 19,
   "id": "straight-chrome",
   "metadata": {},
   "outputs": [
    {
     "name": "stdout",
     "output_type": "stream",
     "text": [
      "k=0, prob(k)=0.08333\n",
      "k=1, prob(k)=0.25000\n",
      "k=2, prob(k)=0.41667\n",
      "k=3, prob(k)=0.58333\n",
      "k=4, prob(k)=0.75000\n",
      "k=5, prob(k)=0.91667\n",
      "k=6, prob(k)=1.00000\n",
      "k=7, prob(k)=1.00000\n",
      "k=8, prob(k)=1.00000\n",
      "k=9, prob(k)=1.00000\n",
      "k=10, prob(k)=1.00000\n",
      "k=11, prob(k)=1.00000\n",
      "k=12, prob(k)=1.00000\n"
     ]
    }
   ],
   "source": [
    "# 第三问\n",
    "def prob(k=0):\n",
    "    numerator = C(12, 1) * min(C(2 * k + 1, 1), C(12, 1))\n",
    "    denominator = C(12, 1) * C(12, 1)\n",
    "    return numerator / denominator\n",
    "\n",
    "for k in range(13):\n",
    "    print(f\"{k=}, {prob(k)=:.5f}\")"
   ]
  },
  {
   "cell_type": "markdown",
   "id": "valid-pressure",
   "metadata": {},
   "source": [
    "##### random sample to validate the answer"
   ]
  },
  {
   "cell_type": "code",
   "execution_count": 21,
   "id": "fixed-queen",
   "metadata": {},
   "outputs": [
    {
     "name": "stdout",
     "output_type": "stream",
     "text": [
      "0.083718\n",
      "k=0, prob=0.08372\n",
      "k=1, prob=0.25040\n",
      "k=2, prob=0.41681\n",
      "k=3, prob=0.58362\n",
      "k=4, prob=0.75005\n",
      "k=5, prob=0.91693\n",
      "k=6, prob=1.00000\n",
      "k=7, prob=1.00000\n",
      "k=8, prob=1.00000\n",
      "k=9, prob=1.00000\n",
      "k=10, prob=1.00000\n",
      "k=11, prob=1.00000\n",
      "k=12, prob=1.00000\n"
     ]
    }
   ],
   "source": [
    "num_trials = 1000000\n",
    "success = 0\n",
    "a = np.random.randint(12, size=num_trials)\n",
    "b = np.random.randint(12, size=num_trials)\n",
    "abs_diff = np.abs(a - b)\n",
    "\n",
    "# k == 0\n",
    "print((abs_diff == 0).sum() / num_trials)\n",
    "\n",
    "for k in range(13):\n",
    "    print(f\"{k=}, prob={(np.minimum(abs_diff, 12 - abs_diff) <= k).sum() / num_trials:.5f}\")"
   ]
  },
  {
   "cell_type": "markdown",
   "id": "everyday-farmer",
   "metadata": {},
   "source": [
    "###### explanation"
   ]
  },
  {
   "cell_type": "markdown",
   "id": "dietary-sound",
   "metadata": {},
   "source": [
    "| A   | B | abs_diff | min(abs_diff, 12 - abs_diff) |\n",
    "| --- | --- | --- | --- |\n",
    "|1| 1| 0 |0|\n",
    "|1| 2| 1 |1|\n",
    "|1| 3| 2 |2|\n",
    "|1| 4| 3 |3|\n",
    "|1| 5| 4 |4|\n",
    "|1| 6| 5 |5|\n",
    "|1| 7| 6 |6|\n",
    "|1| 8| 7 |5|\n",
    "|1| 9| 8 |4|\n",
    "|1|10| 9 |3|\n",
    "|1|11| 10 |2|\n",
    "|1|12| 11 |1|"
   ]
  },
  {
   "cell_type": "markdown",
   "id": "flush-syndication",
   "metadata": {},
   "source": [
    "## 习题1.5.2\n",
    "\n",
    "保留生日问题中的条件不变, 并假设每次只有一个人进入房间. 首次与房间里其他人生 日相同的人最有可能第几个进入房间?"
   ]
  },
  {
   "cell_type": "markdown",
   "id": "atlantic-growing",
   "metadata": {},
   "source": [
    "##### Thinking\n",
    "\n",
    "首先需要先计算房间有n个人时，至少2个人生日在同一天的概率。\n",
    "\n",
    "然后看n和n-1所对应的概率之差，这个差值越大，表明越有可能出现在n-1到n的这个区间，也就是说最有可能是第n个人进来的时候出现相同生日。"
   ]
  },
  {
   "cell_type": "code",
   "execution_count": 75,
   "id": "nominated-telephone",
   "metadata": {},
   "outputs": [],
   "source": [
    "def prob(n):\n",
    "    if n == 1:\n",
    "        return 0\n",
    "    if n > 356:\n",
    "        return 1\n",
    "    return 1 - reduce(op.mul, [(365 - i) / 365 for i in range(n)])"
   ]
  },
  {
   "cell_type": "code",
   "execution_count": 81,
   "id": "nutritional-entrepreneur",
   "metadata": {},
   "outputs": [
    {
     "name": "stdout",
     "output_type": "stream",
     "text": [
      "n=1, prob=0.00000\n",
      "n=2, prob=0.00274\n",
      "n=3, prob=0.00820\n",
      "n=4, prob=0.01636\n",
      "n=5, prob=0.02714\n",
      "n=6, prob=0.04046\n",
      "n=7, prob=0.05624\n",
      "n=8, prob=0.07434\n",
      "n=9, prob=0.09462\n",
      "n=10, prob=0.11695\n",
      "n=11, prob=0.14114\n",
      "n=12, prob=0.16702\n",
      "n=13, prob=0.19441\n",
      "n=14, prob=0.22310\n",
      "n=15, prob=0.25290\n",
      "n=16, prob=0.28360\n",
      "n=17, prob=0.31501\n",
      "n=18, prob=0.34691\n",
      "n=19, prob=0.37912\n",
      "n=20, prob=0.41144\n",
      "n=21, prob=0.44369\n",
      "n=22, prob=0.47570\n",
      "n=23, prob=0.50730\n",
      "n=24, prob=0.53834\n",
      "n=25, prob=0.56870\n",
      "n=26, prob=0.59824\n",
      "n=27, prob=0.62686\n",
      "n=28, prob=0.65446\n",
      "n=29, prob=0.68097\n",
      "n=30, prob=0.70632\n"
     ]
    }
   ],
   "source": [
    "for n in range(1, 31):\n",
    "    print(f\"{n=}, prob={prob(n):.5f}\")"
   ]
  },
  {
   "cell_type": "code",
   "execution_count": 96,
   "id": "aquatic-grammar",
   "metadata": {},
   "outputs": [
    {
     "name": "stdout",
     "output_type": "stream",
     "text": [
      "answer: the 20-th person\n"
     ]
    }
   ],
   "source": [
    "probs = np.array([prob(i) for i in np.arange(365) + 1])\n",
    "diff = probs[1:] - probs[:-1]\n",
    "diff.argmax(), diff.max()\n",
    "print(f\"answer: the {diff.argmax() + 1 + 1}-th person\")  # 1 is due to diff, 1 is due to 0-index list"
   ]
  },
  {
   "cell_type": "markdown",
   "id": "mexican-savage",
   "metadata": {},
   "source": [
    "##### Validation by Random Sampling"
   ]
  },
  {
   "cell_type": "code",
   "execution_count": 95,
   "id": "hollywood-patrick",
   "metadata": {},
   "outputs": [
    {
     "name": "stderr",
     "output_type": "stream",
     "text": [
      "100%|██████████| 1000000/1000000 [00:50<00:00, 19846.02it/s]\n"
     ]
    }
   ],
   "source": [
    "num_trials = 1000000\n",
    "history = []\n",
    "for _ in tqdm(range(num_trials)):\n",
    "    birthdays = np.random.randint(365, size=366)\n",
    "#     registry = 0\n",
    "    for i, d in enumerate(birthdays):\n",
    "        if d in birthdays[:i]:\n",
    "            history.append(i + 1)\n",
    "            break"
   ]
  },
  {
   "cell_type": "code",
   "execution_count": 97,
   "id": "listed-premiere",
   "metadata": {},
   "outputs": [
    {
     "name": "stdout",
     "output_type": "stream",
     "text": [
      "1000000\n",
      "ModeResult(mode=array([19]), count=array([32265]))\n"
     ]
    }
   ],
   "source": [
    "print(len(history))\n",
    "print(mode(history))"
   ]
  },
  {
   "cell_type": "code",
   "execution_count": 98,
   "id": "promotional-breast",
   "metadata": {},
   "outputs": [
    {
     "data": {
      "image/png": "[encoded data removed]",
      "text/plain": [
       "<Figure size 432x288 with 1 Axes>"
      ]
     },
     "metadata": {
      "needs_background": "light"
     },
     "output_type": "display_data"
    }
   ],
   "source": [
    "_ = plt.hist(history, bins=96)"
   ]
  },
  {
   "cell_type": "markdown",
   "id": "considered-crystal",
   "metadata": {},
   "source": [
    "## 习题1.5.3\n",
    "\n",
    "我们已经证明了, 当房间里有23人时, 至少有两人生日在同一天的概率为50%. 平均来说, 需要多少人才能使至少有两人生日在同一天?"
   ]
  },
  {
   "cell_type": "markdown",
   "id": "functional-constant",
   "metadata": {},
   "source": [
    "##### 思路\n",
    "\n",
    "求期望"
   ]
  },
  {
   "cell_type": "code",
   "execution_count": 103,
   "id": "confirmed-foundation",
   "metadata": {},
   "outputs": [
    {
     "name": "stdout",
     "output_type": "stream",
     "text": [
      "1.0\n",
      "22.61658589459885\n"
     ]
    }
   ],
   "source": [
    "# 借用1.5.2的函数\n",
    "def prob(n):\n",
    "    if n == 1:\n",
    "        return 0\n",
    "    if n > 356:\n",
    "        return 1\n",
    "    return 1 - reduce(op.mul, [(365 - i) / 365 for i in range(n)])\n",
    "\n",
    "cdf = np.array([prob(i) for i in np.arange(365) + 1])  # 累计概率密度函数\n",
    "density = cdf[1:] - cdf[:-1]  # 概率密度函数，由累计概率密度函数求导得来\n",
    "print(density.sum())  # 验证：全加为1\n",
    "print(np.array([x * d for x, d in enumerate(density)]).sum())  # 求期望"
   ]
  },
  {
   "cell_type": "code",
   "execution_count": null,
   "id": "amino-making",
   "metadata": {},
   "outputs": [],
   "source": []
  }
 ],
 "metadata": {
  "kernelspec": {
   "display_name": "Python 3",
   "language": "python",
   "name": "python3"
  },
  "language_info": {
   "codemirror_mode": {
    "name": "ipython",
    "version": 3
   },
   "file_extension": ".py",
   "mimetype": "text/x-python",
   "name": "python",
   "nbconvert_exporter": "python",
   "pygments_lexer": "ipython3",
   "version": "3.9.1rc1"
  }
 },
 "nbformat": 4,
 "nbformat_minor": 5
}
