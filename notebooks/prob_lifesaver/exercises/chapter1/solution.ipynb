{
 "cells": [
  {
   "cell_type": "code",
   "execution_count": 49,
   "id": "electoral-waterproof",
   "metadata": {},
   "outputs": [],
   "source": [
    "from math import comb as C\n",
    "import matplotlib.pyplot as plt\n",
    "import numpy as np\n",
    "from scipy.stats import mode\n",
    "from tqdm import tqdm\n",
    "from loguru import logger"
   ]
  },
  {
   "cell_type": "markdown",
   "id": "dynamic-smoke",
   "metadata": {},
   "source": [
    "## 习题1.5.1\n",
    "\n",
    "假设每个人都等可能地出生在一年中的任何一个月里. 如果两个人的出生月份是相互独立的, 那么他们出生在同一个月的概率是多少?\n",
    "\n",
    "他们的出生月份最多相差一个月的概率是多少?\n",
    "\n",
    "对于任意的$k\\in\\{0,1,2,...,12\\}$,求他们的出生月份最多相差k个月的概率. 你对两个人的出生月份最多相差一个月的可能性感到惊讶吗?"
   ]
  },
  {
   "cell_type": "markdown",
   "id": "internal-lexington",
   "metadata": {},
   "source": [
    "##### Answer"
   ]
  },
  {
   "cell_type": "code",
   "execution_count": 11,
   "id": "living-compact",
   "metadata": {},
   "outputs": [
    {
     "name": "stdout",
     "output_type": "stream",
     "text": [
      "numerator=12, denominator=144, ans=0.083\n"
     ]
    }
   ],
   "source": [
    "# 第一问\n",
    "numerator = C(12, 1) * 1\n",
    "denominator = C(12, 1) * C(12, 1)\n",
    "ans = numerator / denominator\n",
    "print(f\"{numerator=}, {denominator=}, {ans=:.3f}\")"
   ]
  },
  {
   "cell_type": "code",
   "execution_count": 12,
   "id": "usual-forwarding",
   "metadata": {},
   "outputs": [
    {
     "name": "stdout",
     "output_type": "stream",
     "text": [
      "numerator=36, denominator=144, ans=0.250\n"
     ]
    }
   ],
   "source": [
    "# 第二问\n",
    "numerator = C(12, 1) * C(3, 1)\n",
    "denominator = C(12, 1) * C(12, 1)\n",
    "ans = numerator / denominator\n",
    "print(f\"{numerator=}, {denominator=}, {ans=:.3f}\")"
   ]
  },
  {
   "cell_type": "code",
   "execution_count": 19,
   "id": "straight-chrome",
   "metadata": {},
   "outputs": [
    {
     "name": "stdout",
     "output_type": "stream",
     "text": [
      "k=0, prob(k)=0.08333\n",
      "k=1, prob(k)=0.25000\n",
      "k=2, prob(k)=0.41667\n",
      "k=3, prob(k)=0.58333\n",
      "k=4, prob(k)=0.75000\n",
      "k=5, prob(k)=0.91667\n",
      "k=6, prob(k)=1.00000\n",
      "k=7, prob(k)=1.00000\n",
      "k=8, prob(k)=1.00000\n",
      "k=9, prob(k)=1.00000\n",
      "k=10, prob(k)=1.00000\n",
      "k=11, prob(k)=1.00000\n",
      "k=12, prob(k)=1.00000\n"
     ]
    }
   ],
   "source": [
    "# 第三问\n",
    "def prob(k=0):\n",
    "    numerator = C(12, 1) * min(C(2 * k + 1, 1), C(12, 1))\n",
    "    denominator = C(12, 1) * C(12, 1)\n",
    "    return numerator / denominator\n",
    "\n",
    "for k in range(13):\n",
    "    print(f\"{k=}, {prob(k)=:.5f}\")"
   ]
  },
  {
   "cell_type": "markdown",
   "id": "valid-pressure",
   "metadata": {},
   "source": [
    "##### random sample to validate the answer"
   ]
  },
  {
   "cell_type": "code",
   "execution_count": 21,
   "id": "fixed-queen",
   "metadata": {},
   "outputs": [
    {
     "name": "stdout",
     "output_type": "stream",
     "text": [
      "0.083718\n",
      "k=0, prob=0.08372\n",
      "k=1, prob=0.25040\n",
      "k=2, prob=0.41681\n",
      "k=3, prob=0.58362\n",
      "k=4, prob=0.75005\n",
      "k=5, prob=0.91693\n",
      "k=6, prob=1.00000\n",
      "k=7, prob=1.00000\n",
      "k=8, prob=1.00000\n",
      "k=9, prob=1.00000\n",
      "k=10, prob=1.00000\n",
      "k=11, prob=1.00000\n",
      "k=12, prob=1.00000\n"
     ]
    }
   ],
   "source": [
    "num_trials = 1000000\n",
    "success = 0\n",
    "a = np.random.randint(12, size=num_trials)\n",
    "b = np.random.randint(12, size=num_trials)\n",
    "abs_diff = np.abs(a - b)\n",
    "\n",
    "# k == 0\n",
    "print((abs_diff == 0).sum() / num_trials)\n",
    "\n",
    "for k in range(13):\n",
    "    print(f\"{k=}, prob={(np.minimum(abs_diff, 12 - abs_diff) <= k).sum() / num_trials:.5f}\")"
   ]
  },
  {
   "cell_type": "markdown",
   "id": "everyday-farmer",
   "metadata": {},
   "source": [
    "###### explanation"
   ]
  },
  {
   "cell_type": "markdown",
   "id": "dietary-sound",
   "metadata": {},
   "source": [
    "| A   | B | abs_diff | min(abs_diff, 12 - abs_diff) |\n",
    "| --- | --- | --- | --- |\n",
    "|1| 1| 0 |0|\n",
    "|1| 2| 1 |1|\n",
    "|1| 3| 2 |2|\n",
    "|1| 4| 3 |3|\n",
    "|1| 5| 4 |4|\n",
    "|1| 6| 5 |5|\n",
    "|1| 7| 6 |6|\n",
    "|1| 8| 7 |5|\n",
    "|1| 9| 8 |4|\n",
    "|1|10| 9 |3|\n",
    "|1|11| 10 |2|\n",
    "|1|12| 11 |1|"
   ]
  },
  {
   "cell_type": "markdown",
   "id": "flush-syndication",
   "metadata": {},
   "source": [
    "## 习题1.5.2\n",
    "\n",
    "保留生日问题中的条件不变, 并假设每次只有一个人进入房间. 首次与房间里其他人生 日相同的人最有可能第几个进入房间?"
   ]
  },
  {
   "cell_type": "markdown",
   "id": "western-macedonia",
   "metadata": {},
   "source": [
    "##### Validation by Random Sampling"
   ]
  },
  {
   "cell_type": "code",
   "execution_count": 53,
   "id": "liquid-maldives",
   "metadata": {},
   "outputs": [
    {
     "name": "stderr",
     "output_type": "stream",
     "text": [
      "100%|██████████| 1000000/1000000 [00:50<00:00, 19763.34it/s]\n"
     ]
    }
   ],
   "source": [
    "num_trials = 1000000\n",
    "history = []\n",
    "for _ in tqdm(range(num_trials)):\n",
    "    birthdays = np.random.randint(365, size=366)\n",
    "#     registry = 0\n",
    "    for i, d in enumerate(birthdays):\n",
    "        if d in birthdays[:i]:\n",
    "            history.append(i + 1)\n",
    "            break"
   ]
  },
  {
   "cell_type": "code",
   "execution_count": 64,
   "id": "junior-wireless",
   "metadata": {},
   "outputs": [
    {
     "name": "stdout",
     "output_type": "stream",
     "text": [
      "1000000\n",
      "ModeResult(mode=array([21]), count=array([32278]))\n"
     ]
    }
   ],
   "source": [
    "print(len(history))\n",
    "print(mode(history))"
   ]
  },
  {
   "cell_type": "code",
   "execution_count": 63,
   "id": "promotional-breast",
   "metadata": {},
   "outputs": [
    {
     "data": {
      "text/plain": [
       "(array([2.7510e+03, 5.6040e+03, 8.1960e+03, 1.0962e+04, 1.3350e+04,\n",
       "        1.5877e+04, 1.8314e+04, 2.0438e+04, 2.2393e+04, 2.4114e+04,\n",
       "        2.5833e+04, 2.7704e+04, 2.8789e+04, 2.9799e+04, 3.0456e+04,\n",
       "        3.1563e+04, 3.1657e+04, 3.2067e+04, 3.2120e+04, 3.2278e+04,\n",
       "        3.1735e+04, 3.1942e+04, 3.0834e+04, 3.0029e+04, 2.9409e+04,\n",
       "        2.8657e+04, 2.7520e+04, 2.6558e+04, 2.5459e+04, 2.3971e+04,\n",
       "        2.2823e+04, 2.1415e+04, 2.0584e+04, 1.9090e+04, 1.7751e+04,\n",
       "        1.6693e+04, 1.5349e+04, 1.4109e+04, 1.3158e+04, 1.1859e+04,\n",
       "        1.0886e+04, 9.9050e+03, 8.7220e+03, 8.1570e+03, 7.4160e+03,\n",
       "        6.4450e+03, 5.8520e+03, 5.1590e+03, 4.6790e+03, 3.9600e+03,\n",
       "        3.6470e+03, 3.0910e+03, 2.6780e+03, 2.4550e+03, 2.0760e+03,\n",
       "        1.8030e+03, 1.5680e+03, 1.3170e+03, 1.0870e+03, 9.6000e+02,\n",
       "        7.9800e+02, 6.8500e+02, 5.6300e+02, 4.9900e+02, 4.1500e+02,\n",
       "        3.3200e+02, 2.9300e+02, 2.3300e+02, 2.2900e+02, 1.5700e+02,\n",
       "        1.5300e+02, 1.1800e+02, 9.7000e+01, 7.4000e+01, 6.5000e+01,\n",
       "        4.3000e+01, 3.1000e+01, 3.1000e+01, 2.2000e+01, 2.0000e+01,\n",
       "        1.6000e+01, 1.6000e+01, 7.0000e+00, 6.0000e+00, 6.0000e+00,\n",
       "        3.0000e+00, 4.0000e+00, 4.0000e+00, 3.0000e+00, 0.0000e+00,\n",
       "        0.0000e+00, 1.0000e+00, 1.0000e+00, 1.0000e+00, 0.0000e+00,\n",
       "        1.0000e+00]),\n",
       " array([ 2.        ,  2.98958333,  3.97916667,  4.96875   ,  5.95833333,\n",
       "         6.94791667,  7.9375    ,  8.92708333,  9.91666667, 10.90625   ,\n",
       "        11.89583333, 12.88541667, 13.875     , 14.86458333, 15.85416667,\n",
       "        16.84375   , 17.83333333, 18.82291667, 19.8125    , 20.80208333,\n",
       "        21.79166667, 22.78125   , 23.77083333, 24.76041667, 25.75      ,\n",
       "        26.73958333, 27.72916667, 28.71875   , 29.70833333, 30.69791667,\n",
       "        31.6875    , 32.67708333, 33.66666667, 34.65625   , 35.64583333,\n",
       "        36.63541667, 37.625     , 38.61458333, 39.60416667, 40.59375   ,\n",
       "        41.58333333, 42.57291667, 43.5625    , 44.55208333, 45.54166667,\n",
       "        46.53125   , 47.52083333, 48.51041667, 49.5       , 50.48958333,\n",
       "        51.47916667, 52.46875   , 53.45833333, 54.44791667, 55.4375    ,\n",
       "        56.42708333, 57.41666667, 58.40625   , 59.39583333, 60.38541667,\n",
       "        61.375     , 62.36458333, 63.35416667, 64.34375   , 65.33333333,\n",
       "        66.32291667, 67.3125    , 68.30208333, 69.29166667, 70.28125   ,\n",
       "        71.27083333, 72.26041667, 73.25      , 74.23958333, 75.22916667,\n",
       "        76.21875   , 77.20833333, 78.19791667, 79.1875    , 80.17708333,\n",
       "        81.16666667, 82.15625   , 83.14583333, 84.13541667, 85.125     ,\n",
       "        86.11458333, 87.10416667, 88.09375   , 89.08333333, 90.07291667,\n",
       "        91.0625    , 92.05208333, 93.04166667, 94.03125   , 95.02083333,\n",
       "        96.01041667, 97.        ]),\n",
       " <BarContainer object of 96 artists>)"
      ]
     },
     "execution_count": 63,
     "metadata": {},
     "output_type": "execute_result"
    },
    {
     "data": {
      "image/png": "[encoded data removed]",
      "text/plain": [
       "<Figure size 432x288 with 1 Axes>"
      ]
     },
     "metadata": {
      "needs_background": "light"
     },
     "output_type": "display_data"
    }
   ],
   "source": [
    "plt.hist(history, bins=96)"
   ]
  },
  {
   "cell_type": "code",
   "execution_count": null,
   "id": "original-sapphire",
   "metadata": {},
   "outputs": [],
   "source": []
  }
 ],
 "metadata": {
  "kernelspec": {
   "display_name": "Python 3",
   "language": "python",
   "name": "python3"
  },
  "language_info": {
   "codemirror_mode": {
    "name": "ipython",
    "version": 3
   },
   "file_extension": ".py",
   "mimetype": "text/x-python",
   "name": "python",
   "nbconvert_exporter": "python",
   "pygments_lexer": "ipython3",
   "version": "3.9.1rc1"
  }
 },
 "nbformat": 4,
 "nbformat_minor": 5
}
