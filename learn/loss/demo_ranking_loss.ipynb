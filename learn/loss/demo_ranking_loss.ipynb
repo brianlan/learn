{
 "cells": [
  {
   "cell_type": "markdown",
   "metadata": {},
   "source": [
    "## Demo of using Ranking Loss (Contrastive and Triplet)"
   ]
  },
  {
   "cell_type": "code",
   "execution_count": 47,
   "metadata": {},
   "outputs": [],
   "source": [
    "import torch\n",
    "from torch.nn.modules import Conv2d, ReLU, BatchNorm2d, BatchNorm1d, Linear\n",
    "from torch.utils.data import DataLoader\n",
    "import torchvision.datasets as datasets\n",
    "from torchvision.models.resnet import resnet18\n",
    "from torchvision.models.vgg import vgg11\n",
    "import torchvision.transforms as T\n",
    "import matplotlib.pyplot as plt"
   ]
  },
  {
   "cell_type": "markdown",
   "metadata": {},
   "source": [
    "### Data"
   ]
  },
  {
   "cell_type": "code",
   "execution_count": 17,
   "metadata": {},
   "outputs": [],
   "source": [
    "transforms = torchvision.transforms.Compose([\n",
    "    torchvision.transforms.ToTensor(),\n",
    "    torchvision.transforms.Normalize((0.1307,), (0.3081,))\n",
    "])"
   ]
  },
  {
   "cell_type": "code",
   "execution_count": 18,
   "metadata": {},
   "outputs": [],
   "source": [
    "trainset = datasets.MNIST(\"/datadrive-ssd/datasets/MNIST\", train=True, download=True, transform=transforms)"
   ]
  },
  {
   "cell_type": "code",
   "execution_count": 28,
   "metadata": {},
   "outputs": [],
   "source": [
    "train_loader = DataLoader(trainset, batch_size=16, shuffle=True)"
   ]
  },
  {
   "cell_type": "code",
   "execution_count": 29,
   "metadata": {},
   "outputs": [],
   "source": [
    "a = next(iter(train_loader))"
   ]
  },
  {
   "cell_type": "code",
   "execution_count": 37,
   "metadata": {},
   "outputs": [
    {
     "name": "stdout",
     "output_type": "stream",
     "text": [
      "torch.Size([16, 1, 28, 28]) tensor([9, 8, 3, 7, 6, 1, 0, 2, 1, 0, 1, 8, 4, 4, 4, 5])\n"
     ]
    }
   ],
   "source": [
    "print(a[0].shape, a[1])"
   ]
  },
  {
   "cell_type": "code",
   "execution_count": 36,
   "metadata": {},
   "outputs": [
    {
     "data": {
      "text/plain": [
       "<matplotlib.image.AxesImage at 0x7f7db9dd2820>"
      ]
     },
     "execution_count": 36,
     "metadata": {},
     "output_type": "execute_result"
    },
    {
     "data": {
      "image/png": "[encoded data removed]",
      "text/plain": [
       "<Figure size 432x288 with 1 Axes>"
      ]
     },
     "metadata": {
      "needs_background": "light"
     },
     "output_type": "display_data"
    }
   ],
   "source": [
    "plt.imshow(a[0][0][0].numpy())"
   ]
  },
  {
   "cell_type": "markdown",
   "metadata": {},
   "source": [
    "### Model"
   ]
  },
  {
   "cell_type": "code",
   "execution_count": 50,
   "metadata": {},
   "outputs": [],
   "source": [
    "class Net(torch.nn.Module):\n",
    "    def __init__(self):\n",
    "        self.conv1a = Conv2d(1, 16, kernel_size=3, padding=1)\n",
    "        self.bn1a = BatchNorm2d(16)\n",
    "        self.relu1a = ReLU()\n",
    "        self.conv1b = Conv2d(16, 16, kernel_size=3, padding=1)\n",
    "        self.bn1b = BatchNorm2d(16)\n",
    "        self.relu1b = ReLU()\n",
    "        self.conv1c = Conv2d(16, 32, kernel_size=3, padding=1, stride=2)\n",
    "        self.bn1c = BatchNorm2d(32)\n",
    "        self.relu1c = ReLU()\n",
    "        self.conv2a = Conv2d(32, 32, kernel_size=3, padding=1)\n",
    "        self.bn2a = BatchNorm2d(32)\n",
    "        self.relu2a = ReLU()\n",
    "        self.conv2b = Conv2d(32, 32, kernel_size=3, padding=1)\n",
    "        self.bn2b = BatchNorm2d(32)\n",
    "        self.relu2b = ReLU()\n",
    "        self.conv2c = Conv2d(32, 64, kernel_size=3, padding=1, stride=2)\n",
    "        self.bn2c = BatchNorm2d(64)\n",
    "        self.relu2c = ReLU()\n",
    "        self.fc1 = Linear(7 * 7 * 64, 2048)\n",
    "        self.bn1 = BatchNorm1d(2048)\n",
    "        self.relu1 = ReLU()\n",
    "        self.fc2 = Linear(2048, 128)\n",
    "        self.initialize_weights()\n",
    "    \n",
    "    def initialize_weights(self):\n",
    "        pass\n",
    "    \n",
    "    def forward(self, x):\n",
    "        x = self.relu1a(self.bn1a(self.conv1a(x)))\n",
    "        x = self.relu1b(self.bn1b(self.conv1b(x)))\n",
    "        x = self.relu1c(self.bn1c(self.conv1c(x)))\n",
    "        x = self.relu2a(self.bn2a(self.conv2a(x)))\n",
    "        x = self.relu2b(self.bn2b(self.conv2b(x)))\n",
    "        x = self.relu2c(self.bn2c(self.conv2c(x)))\n",
    "        x = x.view(16, 64, -1)\n",
    "        x = self.relu1(self.bn1(self.fc1(x)))\n",
    "        x = self.fc2(x)\n",
    "        return x\n"
   ]
  },
  {
   "cell_type": "code",
   "execution_count": null,
   "metadata": {},
   "outputs": [],
   "source": []
  }
 ],
 "metadata": {
  "kernelspec": {
   "display_name": "Python 3",
   "language": "python",
   "name": "python3"
  },
  "language_info": {
   "codemirror_mode": {
    "name": "ipython",
    "version": 3
   },
   "file_extension": ".py",
   "mimetype": "text/x-python",
   "name": "python",
   "nbconvert_exporter": "python",
   "pygments_lexer": "ipython3",
   "version": "3.8.5"
  }
 },
 "nbformat": 4,
 "nbformat_minor": 4
}
